{
 "cells": [
  {
   "cell_type": "code",
   "execution_count": 50,
   "metadata": {
    "collapsed": true,
    "pycharm": {
     "name": "#%%\n"
    }
   },
   "outputs": [],
   "source": [
    "import pandas as pd\n",
    "import numpy as np\n",
    "\n",
    "DATA_PATH: str = '../data/tweets'"
   ]
  },
  {
   "cell_type": "code",
   "execution_count": 51,
   "outputs": [
    {
     "data": {
      "text/plain": "         label                                               text\n557   negative  @United well sitting on the ground 'on time' b...\n6404  positive  @SouthwestAir thank you for your help resolvin...\n3959  positive  @united received my bag. I appreciate taking c...\n3230  negative  @united b/c of your delay now you are oversold...\n3663  negative  @united It was quite enjoyable. 😊 \\n\\nExcept n...\n8665  positive  .@JetBlue 4 min response time. I'm impressed! ...\n7460  positive  @JetBlue thanks for replying-I feel a little b...\n6076  negative  @SouthwestAir I spoke to soon... My bag was lo...",
      "text/html": "<div>\n<style scoped>\n    .dataframe tbody tr th:only-of-type {\n        vertical-align: middle;\n    }\n\n    .dataframe tbody tr th {\n        vertical-align: top;\n    }\n\n    .dataframe thead th {\n        text-align: right;\n    }\n</style>\n<table border=\"1\" class=\"dataframe\">\n  <thead>\n    <tr style=\"text-align: right;\">\n      <th></th>\n      <th>label</th>\n      <th>text</th>\n    </tr>\n  </thead>\n  <tbody>\n    <tr>\n      <th>557</th>\n      <td>negative</td>\n      <td>@United well sitting on the ground 'on time' b...</td>\n    </tr>\n    <tr>\n      <th>6404</th>\n      <td>positive</td>\n      <td>@SouthwestAir thank you for your help resolvin...</td>\n    </tr>\n    <tr>\n      <th>3959</th>\n      <td>positive</td>\n      <td>@united received my bag. I appreciate taking c...</td>\n    </tr>\n    <tr>\n      <th>3230</th>\n      <td>negative</td>\n      <td>@united b/c of your delay now you are oversold...</td>\n    </tr>\n    <tr>\n      <th>3663</th>\n      <td>negative</td>\n      <td>@united It was quite enjoyable. 😊 \\n\\nExcept n...</td>\n    </tr>\n    <tr>\n      <th>8665</th>\n      <td>positive</td>\n      <td>.@JetBlue 4 min response time. I'm impressed! ...</td>\n    </tr>\n    <tr>\n      <th>7460</th>\n      <td>positive</td>\n      <td>@JetBlue thanks for replying-I feel a little b...</td>\n    </tr>\n    <tr>\n      <th>6076</th>\n      <td>negative</td>\n      <td>@SouthwestAir I spoke to soon... My bag was lo...</td>\n    </tr>\n  </tbody>\n</table>\n</div>"
     },
     "execution_count": 51,
     "metadata": {},
     "output_type": "execute_result"
    }
   ],
   "source": [
    "# format and strip raw data:\n",
    "df: pd.DataFrame = (\n",
    "    pd.read_csv(f'{DATA_PATH}._raw.csv')\n",
    "    [['airline_sentiment', 'text']]\n",
    "    .rename(columns={\"airline_sentiment\": \"label\"})\n",
    "    .sample(frac=1)\n",
    ")\n",
    "df.head(8)"
   ],
   "metadata": {
    "collapsed": false,
    "pycharm": {
     "name": "#%%\n"
    }
   }
  },
  {
   "cell_type": "code",
   "execution_count": 52,
   "outputs": [],
   "source": [
    "df.to_csv(f'{DATA_PATH}._full.csv')"
   ],
   "metadata": {
    "collapsed": false,
    "pycharm": {
     "name": "#%%\n"
    }
   }
  },
  {
   "cell_type": "code",
   "execution_count": 53,
   "outputs": [],
   "source": [
    "# load full data as pandas frame\n",
    "full: pd.DataFrame = pd.read_csv(f'{DATA_PATH}._full.csv')\n",
    "\n",
    "# split using numpy into train (80%) and dev (rest)\n",
    "train, eval = np.split(full, [int(.8*len(full))])"
   ],
   "metadata": {
    "collapsed": false,
    "pycharm": {
     "name": "#%%\n"
    }
   }
  },
  {
   "cell_type": "code",
   "execution_count": 54,
   "outputs": [
    {
     "name": "stdout",
     "output_type": "stream",
     "text": [
      "Sizes:\t|full|: 14640, |train|:11712, |dev|: 2928\n"
     ]
    }
   ],
   "source": [
    "print(f'Sizes:\\t|full|: {len(full)}, |train|:{len(train)}, |dev|: {len(eval)}')"
   ],
   "metadata": {
    "collapsed": false,
    "pycharm": {
     "name": "#%%\n"
    }
   }
  },
  {
   "cell_type": "code",
   "execution_count": 55,
   "outputs": [],
   "source": [
    "# save train, dev\n",
    "train.to_csv(f'{DATA_PATH}.train.csv')\n",
    "eval.to_csv(f'{DATA_PATH}.eval.csv')"
   ],
   "metadata": {
    "collapsed": false,
    "pycharm": {
     "name": "#%%\n"
    }
   }
  },
  {
   "cell_type": "code",
   "execution_count": 55,
   "outputs": [],
   "source": [],
   "metadata": {
    "collapsed": false,
    "pycharm": {
     "name": "#%%\n"
    }
   }
  }
 ],
 "metadata": {
  "kernelspec": {
   "display_name": "Python 3",
   "language": "python",
   "name": "python3"
  },
  "language_info": {
   "codemirror_mode": {
    "name": "ipython",
    "version": 2
   },
   "file_extension": ".py",
   "mimetype": "text/x-python",
   "name": "python",
   "nbconvert_exporter": "python",
   "pygments_lexer": "ipython2",
   "version": "2.7.6"
  }
 },
 "nbformat": 4,
 "nbformat_minor": 0
}