{
 "cells": [
  {
   "cell_type": "code",
   "execution_count": 35,
   "metadata": {
    "collapsed": true,
    "pycharm": {
     "name": "#%%\n"
    }
   },
   "outputs": [],
   "source": [
    "import pandas as pd\n",
    "import numpy as np\n",
    "\n",
    "DATA_PATH: str = '../data/tweets'"
   ]
  },
  {
   "cell_type": "code",
   "execution_count": 41,
   "outputs": [
    {
     "data": {
      "text/plain": "          label                                               text\n3375   negative  @united we followed the baggage rules on your ...\n7080    neutral  @JetBlue Awww man...but I need to buy this tic...\n3074    neutral  @united lets see of we can do this today! Hopi...\n1950   negative  @united if you lost my belongings then BE HONEST!\n1981   negative  @united flight 403 is delayed 40 min bc a miss...\n13522  negative  @AmericanAir how can I get you guys to respond...\n3557   negative  @united @staralliance how can I book reward tr...\n14533  negative  @AmericanAir Trying to find out if flight #340...",
      "text/html": "<div>\n<style scoped>\n    .dataframe tbody tr th:only-of-type {\n        vertical-align: middle;\n    }\n\n    .dataframe tbody tr th {\n        vertical-align: top;\n    }\n\n    .dataframe thead th {\n        text-align: right;\n    }\n</style>\n<table border=\"1\" class=\"dataframe\">\n  <thead>\n    <tr style=\"text-align: right;\">\n      <th></th>\n      <th>label</th>\n      <th>text</th>\n    </tr>\n  </thead>\n  <tbody>\n    <tr>\n      <th>3375</th>\n      <td>negative</td>\n      <td>@united we followed the baggage rules on your ...</td>\n    </tr>\n    <tr>\n      <th>7080</th>\n      <td>neutral</td>\n      <td>@JetBlue Awww man...but I need to buy this tic...</td>\n    </tr>\n    <tr>\n      <th>3074</th>\n      <td>neutral</td>\n      <td>@united lets see of we can do this today! Hopi...</td>\n    </tr>\n    <tr>\n      <th>1950</th>\n      <td>negative</td>\n      <td>@united if you lost my belongings then BE HONEST!</td>\n    </tr>\n    <tr>\n      <th>1981</th>\n      <td>negative</td>\n      <td>@united flight 403 is delayed 40 min bc a miss...</td>\n    </tr>\n    <tr>\n      <th>13522</th>\n      <td>negative</td>\n      <td>@AmericanAir how can I get you guys to respond...</td>\n    </tr>\n    <tr>\n      <th>3557</th>\n      <td>negative</td>\n      <td>@united @staralliance how can I book reward tr...</td>\n    </tr>\n    <tr>\n      <th>14533</th>\n      <td>negative</td>\n      <td>@AmericanAir Trying to find out if flight #340...</td>\n    </tr>\n  </tbody>\n</table>\n</div>"
     },
     "execution_count": 41,
     "metadata": {},
     "output_type": "execute_result"
    }
   ],
   "source": [
    "# format and strip raw data:\n",
    "df: pd.DataFrame = (\n",
    "    pd.read_csv(f'{DATA_PATH}._raw.csv')\n",
    "    [['airline_sentiment', 'text']]\n",
    "    .rename(columns={\"airline_sentiment\": \"label\"})\n",
    "    .sample(frac=1)\n",
    ")\n",
    "df.head(8)"
   ],
   "metadata": {
    "collapsed": false,
    "pycharm": {
     "name": "#%%\n"
    }
   }
  },
  {
   "cell_type": "code",
   "execution_count": 37,
   "outputs": [],
   "source": [
    "df.to_csv(f'{DATA_PATH}._full.csv')"
   ],
   "metadata": {
    "collapsed": false,
    "pycharm": {
     "name": "#%%\n"
    }
   }
  },
  {
   "cell_type": "code",
   "execution_count": 38,
   "outputs": [],
   "source": [
    "# load full data as pandas frame\n",
    "full: pd.DataFrame = pd.read_csv(f'{DATA_PATH}._full.csv')\n",
    "\n",
    "# split using numpy into train (80%) and dev (rest)\n",
    "train, dev = np.split(full, [int(.8*len(full))])"
   ],
   "metadata": {
    "collapsed": false,
    "pycharm": {
     "name": "#%%\n"
    }
   }
  },
  {
   "cell_type": "code",
   "execution_count": 39,
   "outputs": [
    {
     "name": "stdout",
     "output_type": "stream",
     "text": [
      "Sizes:\t|full|: 14640, |train|:11712, |dev|: 2928\n"
     ]
    }
   ],
   "source": [
    "print(f'Sizes:\\t|full|: {len(full)}, |train|:{len(train)}, |dev|: {len(dev)}')"
   ],
   "metadata": {
    "collapsed": false,
    "pycharm": {
     "name": "#%%\n"
    }
   }
  },
  {
   "cell_type": "code",
   "execution_count": 43,
   "outputs": [],
   "source": [
    "# save train, dev\n",
    "train.ind.to_csv(f'{DATA_PATH}.train.csv')\n",
    "dev.to_csv(f'{DATA_PATH}.dev.csv')"
   ],
   "metadata": {
    "collapsed": false,
    "pycharm": {
     "name": "#%%\n"
    }
   }
  },
  {
   "cell_type": "code",
   "execution_count": null,
   "outputs": [],
   "source": [],
   "metadata": {
    "collapsed": false,
    "pycharm": {
     "name": "#%%\n"
    }
   }
  }
 ],
 "metadata": {
  "kernelspec": {
   "display_name": "Python 3",
   "language": "python",
   "name": "python3"
  },
  "language_info": {
   "codemirror_mode": {
    "name": "ipython",
    "version": 2
   },
   "file_extension": ".py",
   "mimetype": "text/x-python",
   "name": "python",
   "nbconvert_exporter": "python",
   "pygments_lexer": "ipython2",
   "version": "2.7.6"
  }
 },
 "nbformat": 4,
 "nbformat_minor": 0
}